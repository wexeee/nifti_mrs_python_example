{
 "cells": [
  {
   "cell_type": "code",
   "execution_count": 70,
   "metadata": {},
   "outputs": [
    {
     "name": "stdout",
     "output_type": "stream",
     "text": [
      "The autoreload extension is already loaded. To reload it, use:\n",
      "  %reload_ext autoreload\n"
     ]
    }
   ],
   "source": [
    "%load_ext autoreload\n",
    "%autoreload 2\n",
    "\n",
    "import nibabel as nib\n",
    "import numpy as np\n",
    "import matplotlib.pyplot as plt\n",
    "import json"
   ]
  },
  {
   "cell_type": "markdown",
   "metadata": {},
   "source": [
    "Load a simple 4D example of preprocessed data"
   ]
  },
  {
   "cell_type": "code",
   "execution_count": 4,
   "metadata": {},
   "outputs": [],
   "source": [
    "nifti_mrs_file = 'svs_preprocessed.nii.gz';"
   ]
  },
  {
   "cell_type": "markdown",
   "metadata": {},
   "source": [
    "### Load using the nibabel interface"
   ]
  },
  {
   "cell_type": "code",
   "execution_count": 8,
   "metadata": {},
   "outputs": [],
   "source": [
    "img = nib.load(nifti_mrs_file)"
   ]
  },
  {
   "cell_type": "markdown",
   "metadata": {},
   "source": [
    "### Examine data\n",
    "Complex data type must be specified."
   ]
  },
  {
   "cell_type": "code",
   "execution_count": 14,
   "metadata": {},
   "outputs": [
    {
     "name": "stdout",
     "output_type": "stream",
     "text": [
      "Data shape = (1, 1, 1, 4096)\n"
     ]
    }
   ],
   "source": [
    "data = img.get_fdata(dtype=np.complex64)\n",
    "print(f'Data shape = {data.shape}')"
   ]
  },
  {
   "cell_type": "markdown",
   "metadata": {},
   "source": [
    "Data is stored in the time-domain. Plot the absolute and real component."
   ]
  },
  {
   "cell_type": "code",
   "execution_count": 96,
   "metadata": {},
   "outputs": [
    {
     "data": {
      "image/png": "[encoded data removed]",
      "text/plain": [
       "<Figure size 1080x288 with 2 Axes>"
      ]
     },
     "metadata": {
      "needs_background": "light"
     },
     "output_type": "display_data"
    }
   ],
   "source": [
    "fig,axes = plt.subplots(1,2,figsize=(15,4))\n",
    "axes[0].plot(np.abs(data[0,0,0,:]),color='k')\n",
    "axes[1].plot(np.real(data[0,0,0,:]),color='r')\n",
    "plt.savefig('plots/data.png')"
   ]
  },
  {
   "cell_type": "markdown",
   "metadata": {},
   "source": [
    "### Examine NIfTI header\n"
   ]
  },
  {
   "cell_type": "code",
   "execution_count": 52,
   "metadata": {},
   "outputs": [
    {
     "name": "stdout",
     "output_type": "stream",
     "text": [
      "intent_name: mrs_v0_2\n",
      "Position information: \n",
      " [[ 20.          -0.          -0.         -32.90067836]\n",
      " [ -0.         -20.          -0.          10.6633755 ]\n",
      " [  0.           0.         -20.          21.35589036]\n",
      " [  0.           0.           0.           1.        ]]\n",
      "\n",
      "Dwelltime: 8.33e-05 s\n",
      "\n",
      "<class 'nibabel.nifti2.Nifti2Header'> object, endian='<'\n",
      "sizeof_hdr      : 540\n",
      "magic           : b'n+2'\n",
      "eol_check       : [13 10 26 10]\n",
      "datatype        : complex64\n",
      "bitpix          : 64\n",
      "dim             : [   4    1    1    1 4096    1    1    1]\n",
      "intent_p1       : 0.0\n",
      "intent_p2       : 0.0\n",
      "intent_p3       : 0.0\n",
      "pixdim          : [1.00e+00 2.00e+01 2.00e+01 2.00e+01 8.33e-05 1.00e+00 1.00e+00 1.00e+00]\n",
      "vox_offset      : 0\n",
      "scl_slope       : nan\n",
      "scl_inter       : nan\n",
      "cal_max         : 0.0\n",
      "cal_min         : 0.0\n",
      "slice_duration  : 0.0\n",
      "toffset         : 0.0\n",
      "slice_start     : 0\n",
      "slice_end       : 0\n",
      "descrip         : b''\n",
      "aux_file        : b''\n",
      "qform_code      : aligned\n",
      "sform_code      : aligned\n",
      "quatern_b       : 1.0\n",
      "quatern_c       : 0.0\n",
      "quatern_d       : 0.0\n",
      "qoffset_x       : -32.90067836\n",
      "qoffset_y       : 10.6633755\n",
      "qoffset_z       : 21.35589036\n",
      "srow_x          : [ 20.          -0.          -0.         -32.90067836]\n",
      "srow_y          : [ -0.        -20.         -0.         10.6633755]\n",
      "srow_z          : [  0.           0.         -20.          21.35589036]\n",
      "slice_code      : unknown\n",
      "xyzt_units      : 0\n",
      "intent_code     : none\n",
      "intent_name     : b'mrs_v0_2'\n",
      "dim_info        : 0\n",
      "unused_str      : b''\n"
     ]
    }
   ],
   "source": [
    "header = img.header\n",
    "print(f'intent_name: {header.get_intent()[2]}')\n",
    "print(f'Position information: \\n {header.get_best_affine()}\\n')\n",
    "\n",
    "dwelltime = header['pixdim'][4]\n",
    "print(f'Dwelltime: {dwelltime} s\\n')\n",
    "\n",
    "print(header)"
   ]
  },
  {
   "cell_type": "markdown",
   "metadata": {},
   "source": [
    "### Examine NIfTI MRS header extension"
   ]
  },
  {
   "cell_type": "code",
   "execution_count": 71,
   "metadata": {},
   "outputs": [
    {
     "data": {
      "text/plain": [
       "{'SpectrometerFrequency': [297.219948],\n",
       " 'ResonantNucleus': ['1H'],\n",
       " 'EchoTime': 0.011,\n",
       " 'RepetitionTime': 5.0,\n",
       " 'InversionTime': None,\n",
       " 'MixingTime': 0.032,\n",
       " 'ConversionMethod': 'Manual',\n",
       " 'ConversionTime': '2020-12-16T17:14:47.920',\n",
       " 'OriginalFile': ['meas_MID310_STEAM_metab_FID115673.dat']}"
      ]
     },
     "execution_count": 71,
     "metadata": {},
     "output_type": "execute_result"
    }
   ],
   "source": [
    "hdr_ext_codes = img.header.extensions.get_codes()\n",
    "mrs_hdr_ext = json.loads(img.header.extensions[hdr_ext_codes.index(44)].get_content())\n",
    "mrs_hdr_ext"
   ]
  },
  {
   "cell_type": "markdown",
   "metadata": {},
   "source": [
    "### Plot spectrum on frequency and ppm axis"
   ]
  },
  {
   "cell_type": "code",
   "execution_count": 95,
   "metadata": {},
   "outputs": [
    {
     "data": {
      "image/png": "[encoded data removed]",
      "text/plain": [
       "<Figure size 1080x504 with 2 Axes>"
      ]
     },
     "metadata": {
      "needs_background": "light"
     },
     "output_type": "display_data"
    }
   ],
   "source": [
    "spectrometer_frequency = mrs_hdr_ext['SpectrometerFrequency'][0]\n",
    "bandwidth = 1/dwelltime\n",
    "frequency_axis = np.linspace(bandwidth/2, -bandwidth/2, data.shape[3])\n",
    "ppm_axis = 4.65+frequency_axis/spectrometer_frequency\n",
    "\n",
    "spectrum = np.fft.fftshift(np.fft.fft(data[0,0,0,:]))\n",
    "\n",
    "fig,(ax1,ax2) = plt.subplots(2,1,figsize=(15,7))\n",
    "ax1.plot(frequency_axis,np.real(spectrum))\n",
    "ax2.plot(ppm_axis,np.real(spectrum))\n",
    "\n",
    "ax1.invert_xaxis()\n",
    "ax2.invert_xaxis()\n",
    "\n",
    "ax1.set_xlabel('$|\\omega|-|\\omega_{ref}|$ (Hz)')\n",
    "ax2.set_xlabel('$\\delta$ (ppm)')\n",
    "\n",
    "plt.savefig('plots/spectra.png')"
   ]
  },
  {
   "cell_type": "markdown",
   "metadata": {},
   "source": [
    "## Load more complex SVS example"
   ]
  },
  {
   "cell_type": "code",
   "execution_count": 98,
   "metadata": {},
   "outputs": [
    {
     "name": "stdout",
     "output_type": "stream",
     "text": [
      "Data shape: (1, 1, 1, 4096, 32, 64)\n"
     ]
    }
   ],
   "source": [
    "nifti_mrs_file_2 = 'svs_suppressed.nii.gz';\n",
    "img2 = nib.load(nifti_mrs_file_2)\n",
    "\n",
    "print(f'Data shape: {img2.get_fdata(dtype=np.complex64).shape}')"
   ]
  },
  {
   "cell_type": "markdown",
   "metadata": {},
   "source": [
    "Use header extension to find out what the higher dimensions are used for"
   ]
  },
  {
   "cell_type": "code",
   "execution_count": 99,
   "metadata": {},
   "outputs": [
    {
     "data": {
      "text/plain": [
       "{'dim_5': 'DIM_COIL',\n",
       " 'dim_6': 'DIM_DYN',\n",
       " 'dim_6_use': 'Signal repetitions',\n",
       " 'SpectrometerFrequency': [297.219948],\n",
       " 'ResonantNucleus': ['1H'],\n",
       " 'EchoTime': 0.011,\n",
       " 'RepetitionTime': 5.0,\n",
       " 'InversionTime': None,\n",
       " 'MixingTime': 0.032,\n",
       " 'ConversionMethod': 'Manual',\n",
       " 'ConversionTime': '2020-12-16T17:14:47.920',\n",
       " 'OriginalFile': ['meas_MID310_STEAM_metab_FID115673.dat'],\n",
       " 'siemens_sequence_info': {'Description': 'Paths to sequence and reconstruction code binaries for sequence identification.',\n",
       "  'sequence': '%CustomerSeq%\\\\uzay_steam_gui',\n",
       "  'recon': '%CustomerIceProgs%\\\\uzayIcePrgSpecOnline'}}"
      ]
     },
     "execution_count": 99,
     "metadata": {},
     "output_type": "execute_result"
    }
   ],
   "source": [
    "hdr_ext_codes = img2.header.extensions.get_codes()\n",
    "mrs_hdr_ext2 = json.loads(img2.header.extensions[hdr_ext_codes.index(44)].get_content())\n",
    "mrs_hdr_ext2"
   ]
  }
 ],
 "metadata": {
  "kernelspec": {
   "display_name": "Python 3",
   "language": "python",
   "name": "python3"
  },
  "language_info": {
   "codemirror_mode": {
    "name": "ipython",
    "version": 3
   },
   "file_extension": ".py",
   "mimetype": "text/x-python",
   "name": "python",
   "nbconvert_exporter": "python",
   "pygments_lexer": "ipython3",
   "version": "3.7.7"
  }
 },
 "nbformat": 4,
 "nbformat_minor": 4
}
